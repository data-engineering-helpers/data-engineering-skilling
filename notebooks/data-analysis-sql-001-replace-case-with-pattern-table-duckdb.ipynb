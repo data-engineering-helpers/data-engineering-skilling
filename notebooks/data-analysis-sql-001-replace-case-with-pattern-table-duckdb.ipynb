{
 "cells": [
  {
   "cell_type": "markdown",
   "id": "18b58497-7ad3-4d41-baea-dbd179b99399",
   "metadata": {},
   "source": [
    "Data Engineering - Skilling - Data Analysis and SQL - Replace case clause with pattern tables - DuckDB\n",
    "======================================================================================================"
   ]
  },
  {
   "cell_type": "markdown",
   "id": "9d2f9e4b-ddca-497e-9079-c5381d558e14",
   "metadata": {},
   "source": [
    "# References\n",
    "* [Data Engineering helpers - Skilling - Data Analysis with SQL - Redame](https://github.com/data-engineering-helpers/data-engineering-skilling/blob/main/Data-Analysis-SQL.md#replace-case-clause-with-pattern-tables)\n",
    "  * [Data Engineering helpers - Skilling - Data Analysis with SQL - Original Jupyter notebook with DuckDB (this notebook)](https://github.com/data-engineering-helpers/data-engineering-skilling/blob/main/notebooks/data-analysis-sql-001-replace-case-with-pattern-table-duckdb.ipynb)\n",
    "  * [Data Engineering helpers - Skilling - Data Analysis with SQL - Jupyter notebook adapted to PySpark](https://github.com/data-engineering-helpers/data-engineering-skilling/blob/main/notebooks/data-analysis-sql-001-replace-case-with-pattern-table-spark.ipynb)\n",
    "* Date: Aug. 2025\n",
    "* Author: Matt Martin\n",
    "  ([Matt Martin on LinkedIn](https://www.linkedin.com/in/mattmartin14/),\n",
    "   [Matt Martin's Substack blog](https://substack.com/@performancede))\n",
    "* Article on Substack: https://performancede.substack.com/p/handling-fuzzy-matching-of-transactions\n",
    "* [Original Git repository with the code (Jupyter notebook)](https://github.com/mattmartin14/dream_machine/blob/main/substack/articles/2025.08.15-fuzzy_like_matching/scratchpad.ipynb)\n"
   ]
  },
  {
   "cell_type": "markdown",
   "id": "ce6897b9-7797-43dd-903a-f5b45296d93a",
   "metadata": {},
   "source": [
    "# Setup"
   ]
  },
  {
   "cell_type": "code",
   "execution_count": 1,
   "id": "3cc6ff49-3f05-47c4-ab31-e5b54455e347",
   "metadata": {},
   "outputs": [
    {
     "name": "stdout",
     "output_type": "stream",
     "text": [
      "3.12.11 (main, Jun 16 2025, 19:21:30) [Clang 17.0.0 (clang-1700.0.13.5)]\n",
      "3.12.11\n"
     ]
    }
   ],
   "source": [
    "import sys, platform\n",
    "print(sys.version)\n",
    "print(platform.python_version())"
   ]
  },
  {
   "cell_type": "code",
   "execution_count": 14,
   "id": "9f9c2f44-588a-4c79-a095-32c5e2981950",
   "metadata": {},
   "outputs": [],
   "source": [
    "import duckdb\n",
    "cn = duckdb.connect()"
   ]
  },
  {
   "cell_type": "markdown",
   "id": "1059f4df-d81e-4a57-9406-e591dd036cdc",
   "metadata": {},
   "source": [
    "# Table/temporary view creations"
   ]
  },
  {
   "cell_type": "markdown",
   "id": "26e69562-8cc0-404b-82f8-31940f2197a8",
   "metadata": {},
   "source": [
    "## Grocery categories: pattern matching table"
   ]
  },
  {
   "cell_type": "code",
   "execution_count": 15,
   "id": "37f789ca-810e-4320-b994-ac54cd8adecb",
   "metadata": {},
   "outputs": [
    {
     "data": {
      "text/plain": [
       "<duckdb.duckdb.DuckDBPyConnection at 0x13dcb6430>"
      ]
     },
     "execution_count": 15,
     "metadata": {},
     "output_type": "execute_result"
    }
   ],
   "source": [
    "sql = \"\"\"\n",
    "    create or replace table grocery_categories (\n",
    "        item_pattern text,\n",
    "        item_category text\n",
    "    )\n",
    "\"\"\"\n",
    "cn.execute(sql)\n",
    "\n",
    "sql = \"\"\"\n",
    "INSERT INTO grocery_categories (item_pattern, item_category) VALUES\n",
    "    ('%banana%', 'fruit'),\n",
    "    ('%apple%', 'fruit'),\n",
    "    ('%orange%', 'fruit'),\n",
    "    ('%grape%', 'fruit'),\n",
    "    ('%strawberry%', 'fruit'),\n",
    "    ('%lettuce%', 'vegetable'),\n",
    "    ('%spinach%', 'vegetable'),\n",
    "    ('%carrot%', 'vegetable'),\n",
    "    ('%broccoli%', 'vegetable'),\n",
    "    ('%cucumber%', 'vegetable'),\n",
    "    ('%chicken%', 'meat'),\n",
    "    ('%beef%', 'meat'),\n",
    "    ('%pork%', 'meat'),\n",
    "    ('%salmon%', 'seafood'),\n",
    "    ('%shrimp%', 'seafood'),\n",
    "    ('%milk%', 'dairy'),\n",
    "    ('%cheese%', 'dairy'),\n",
    "    ('%yogurt%', 'dairy'),\n",
    "    ('%bread%', 'bakery'),\n",
    "    ('%bagel%', 'bakery');\n",
    "\"\"\"\n",
    "cn.execute(sql)"
   ]
  },
  {
   "cell_type": "code",
   "execution_count": 18,
   "id": "b3bd801a-ba88-4c19-a77c-6968fd9621af",
   "metadata": {},
   "outputs": [
    {
     "name": "stdout",
     "output_type": "stream",
     "text": [
      "┌──────────────┬───────────────┐\n",
      "│ item_pattern │ item_category │\n",
      "│   varchar    │    varchar    │\n",
      "├──────────────┼───────────────┤\n",
      "│ %banana%     │ fruit         │\n",
      "│ %apple%      │ fruit         │\n",
      "│ %orange%     │ fruit         │\n",
      "│ %grape%      │ fruit         │\n",
      "│ %strawberry% │ fruit         │\n",
      "│ %lettuce%    │ vegetable     │\n",
      "│ %spinach%    │ vegetable     │\n",
      "│ %carrot%     │ vegetable     │\n",
      "│ %broccoli%   │ vegetable     │\n",
      "│ %cucumber%   │ vegetable     │\n",
      "│ %chicken%    │ meat          │\n",
      "│ %beef%       │ meat          │\n",
      "│ %pork%       │ meat          │\n",
      "│ %salmon%     │ seafood       │\n",
      "│ %shrimp%     │ seafood       │\n",
      "│ %milk%       │ dairy         │\n",
      "│ %cheese%     │ dairy         │\n",
      "│ %yogurt%     │ dairy         │\n",
      "│ %bread%      │ bakery        │\n",
      "│ %bagel%      │ bakery        │\n",
      "├──────────────┴───────────────┤\n",
      "│ 20 rows            2 columns │\n",
      "└──────────────────────────────┘\n",
      "\n"
     ]
    }
   ],
   "source": [
    "cn.sql(\"select * from grocery_categories\").show()"
   ]
  },
  {
   "cell_type": "markdown",
   "id": "09b10685-b46a-4513-a301-552eb826bb07",
   "metadata": {},
   "source": [
    "## Transaction/main table"
   ]
  },
  {
   "cell_type": "code",
   "execution_count": 16,
   "id": "4d19ba30-7db2-44d6-8427-be5833e4951e",
   "metadata": {},
   "outputs": [
    {
     "data": {
      "text/plain": [
       "<duckdb.duckdb.DuckDBPyConnection at 0x13dcb6430>"
      ]
     },
     "execution_count": 16,
     "metadata": {},
     "output_type": "execute_result"
    }
   ],
   "source": [
    "# Create the txns table\n",
    "cn.execute(\"\"\"\n",
    "    CREATE OR REPLACE TABLE txns (\n",
    "        pstd_dt DATE,\n",
    "        item_desc TEXT,\n",
    "        charge_amt DECIMAL(10,2)\n",
    "    )\n",
    "\"\"\")\n",
    "\n",
    "# Insert records with hardcoded random dates\n",
    "cn.execute(\"\"\"\n",
    "    INSERT INTO txns (pstd_dt, item_desc, charge_amt) VALUES\n",
    "        ('2024-05-01', '4 Pack Banana', 2.99),\n",
    "        ('2024-05-03', 'Shrimp 3 lbs', 15.50),\n",
    "        ('2024-05-05', 'organic Apple', 1.25),\n",
    "        ('2024-05-07', 'Whole milk', 3.49),\n",
    "        ('2024-05-09', 'Bagel Dozen', 5.99),\n",
    "        ('2024-05-11', 'CHEDDAR cheese', 4.25),\n",
    "        ('2024-05-13', 'Baby Spinach', 2.50),\n",
    "        ('2024-05-15', 'Carrot bunch', 1.99),\n",
    "        ('2024-05-17', 'Beef Steak', 12.99),\n",
    "        ('2024-05-19', 'Salmon Fillet', 13.75),\n",
    "        ('2024-05-21', 'Grape Bunch', 3.10),\n",
    "        ('2024-05-23', 'Lettuce Head', 1.75),\n",
    "        ('2024-05-25', 'Pork Chops', 9.50),\n",
    "        ('2024-05-27', 'YOGURT cup', 1.10),\n",
    "        ('2024-05-29', 'Cucumber', 1.00),\n",
    "        ('2024-06-01', 'Chicken breast', 8.25),\n",
    "        ('2024-06-03', 'Strawberry Box', 4.00),\n",
    "        ('2024-06-05', 'Orange Juice', 3.99),\n",
    "        ('2024-06-07', 'Whole Wheat bread', 2.50),\n",
    "        ('2024-06-09', 'Broccoli Crown', 2.20),\n",
    "        ('2024-06-11', 'Bagel SANDWICH', 6.50),\n",
    "        ('2024-06-13', 'Spinach Salad', 5.00),\n",
    "        ('2024-06-15', 'Cheese PLATTER', 10.00),\n",
    "        ('2024-06-17', 'Milk Chocolate', 2.75),\n",
    "        ('2024-06-19', 'Apple Pie', 7.00),\n",
    "        ('2024-06-21', 'Shrimp COCKTAIL', 14.00),\n",
    "        ('2024-06-23', 'Banana Bread', 4.50),\n",
    "        ('2024-06-25', 'Beef BURGER', 11.00),\n",
    "        ('2024-06-27', 'PORK ribs', 13.00),\n",
    "        ('2024-06-29', 'Grape Jelly', 2.80),\n",
    "\"\"\")"
   ]
  },
  {
   "cell_type": "code",
   "execution_count": 19,
   "id": "d9278627-c948-4d1d-94eb-fbffa40a4799",
   "metadata": {},
   "outputs": [
    {
     "name": "stdout",
     "output_type": "stream",
     "text": [
      "┌────────────┬─────────────────┬───────────────┐\n",
      "│  pstd_dt   │    item_desc    │  charge_amt   │\n",
      "│    date    │     varchar     │ decimal(10,2) │\n",
      "├────────────┼─────────────────┼───────────────┤\n",
      "│ 2024-05-01 │ 4 Pack Banana   │          2.99 │\n",
      "│ 2024-05-03 │ Shrimp 3 lbs    │         15.50 │\n",
      "│ 2024-05-05 │ organic Apple   │          1.25 │\n",
      "│ 2024-05-07 │ Whole milk      │          3.49 │\n",
      "│ 2024-05-09 │ Bagel Dozen     │          5.99 │\n",
      "│ 2024-05-11 │ CHEDDAR cheese  │          4.25 │\n",
      "│ 2024-05-13 │ Baby Spinach    │          2.50 │\n",
      "│ 2024-05-15 │ Carrot bunch    │          1.99 │\n",
      "│ 2024-05-17 │ Beef Steak      │         12.99 │\n",
      "│ 2024-05-19 │ Salmon Fillet   │         13.75 │\n",
      "│     ·      │       ·         │            ·  │\n",
      "│     ·      │       ·         │            ·  │\n",
      "│     ·      │       ·         │            ·  │\n",
      "│ 2024-06-11 │ Bagel SANDWICH  │          6.50 │\n",
      "│ 2024-06-13 │ Spinach Salad   │          5.00 │\n",
      "│ 2024-06-15 │ Cheese PLATTER  │         10.00 │\n",
      "│ 2024-06-17 │ Milk Chocolate  │          2.75 │\n",
      "│ 2024-06-19 │ Apple Pie       │          7.00 │\n",
      "│ 2024-06-21 │ Shrimp COCKTAIL │         14.00 │\n",
      "│ 2024-06-23 │ Banana Bread    │          4.50 │\n",
      "│ 2024-06-25 │ Beef BURGER     │         11.00 │\n",
      "│ 2024-06-27 │ PORK ribs       │         13.00 │\n",
      "│ 2024-06-29 │ Grape Jelly     │          2.80 │\n",
      "├────────────┴─────────────────┴───────────────┤\n",
      "│ 30 rows (20 shown)                 3 columns │\n",
      "└──────────────────────────────────────────────┘\n",
      "\n"
     ]
    }
   ],
   "source": [
    "cn.sql(\"select * from txns\").show()"
   ]
  },
  {
   "cell_type": "markdown",
   "id": "df19d767-5c5f-460f-bbd3-9115e66d41cf",
   "metadata": {},
   "source": [
    "# Category resolution with the join on pattern table (rather than case clause)"
   ]
  },
  {
   "cell_type": "code",
   "execution_count": 20,
   "id": "44ec7a73-aec8-48b0-931b-bf9d8c251641",
   "metadata": {},
   "outputs": [
    {
     "name": "stdout",
     "output_type": "stream",
     "text": [
      "┌────────────┬──────────────────┬───────────────┐\n",
      "│ pstd_month │ grocery_category │ total_charges │\n",
      "│   int64    │     varchar      │ decimal(38,2) │\n",
      "├────────────┼──────────────────┼───────────────┤\n",
      "│          5 │ seafood          │         29.25 │\n",
      "│          5 │ meat             │         22.49 │\n",
      "│          5 │ dairy            │          8.84 │\n",
      "│          5 │ fruit            │          7.34 │\n",
      "│          5 │ vegetable        │          7.24 │\n",
      "│          5 │ bakery           │          5.99 │\n",
      "│          6 │ meat             │         32.25 │\n",
      "│          6 │ fruit            │         22.29 │\n",
      "│          6 │ seafood          │         14.00 │\n",
      "│          6 │ bakery           │         13.50 │\n",
      "│          6 │ dairy            │         12.75 │\n",
      "│          6 │ vegetable        │          7.20 │\n",
      "├────────────┴──────────────────┴───────────────┤\n",
      "│ 12 rows                             3 columns │\n",
      "└───────────────────────────────────────────────┘\n",
      "\n"
     ]
    }
   ],
   "source": [
    "sql = \"\"\"\n",
    "    select month(t.pstd_dt) as pstd_month\n",
    "        ,gc.item_category as grocery_category\n",
    "        ,sum(t.charge_amt) as total_charges\n",
    "    from txns as t\n",
    "        left join grocery_categories as gc \n",
    "            on t.item_desc ilike gc.item_pattern\n",
    "    group by all\n",
    "    order by pstd_month asc, total_charges desc\n",
    "\"\"\"\n",
    "cn.sql(sql).show()"
   ]
  },
  {
   "cell_type": "code",
   "execution_count": null,
   "id": "dd23daa5-61c7-46fa-ada2-464e08661fbc",
   "metadata": {},
   "outputs": [],
   "source": []
  }
 ],
 "metadata": {
  "kernelspec": {
   "display_name": "Python 3 (ipykernel)",
   "language": "python",
   "name": "python3"
  },
  "language_info": {
   "codemirror_mode": {
    "name": "ipython",
    "version": 3
   },
   "file_extension": ".py",
   "mimetype": "text/x-python",
   "name": "python",
   "nbconvert_exporter": "python",
   "pygments_lexer": "ipython3",
   "version": "3.12.11"
  }
 },
 "nbformat": 4,
 "nbformat_minor": 5
}
